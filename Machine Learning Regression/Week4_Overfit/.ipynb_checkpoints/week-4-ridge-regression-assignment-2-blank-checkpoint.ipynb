{
 "cells": [
  {
   "cell_type": "markdown",
   "metadata": {},
   "source": [
    "# Regression Week 4: Ridge Regression (gradient descent)"
   ]
  },
  {
   "cell_type": "markdown",
   "metadata": {},
   "source": [
    "In this notebook, you will implement ridge regression via gradient descent. You will:\n",
    "* Convert an SFrame into a Numpy array\n",
    "* Write a Numpy function to compute the derivative of the regression weights with respect to a single feature\n",
    "* Write gradient descent function to compute the regression weights given an initial weight vector, step size, tolerance, and L2 penalty"
   ]
  },
  {
   "cell_type": "markdown",
   "metadata": {},
   "source": [
    "# Fire up graphlab create"
   ]
  },
  {
   "cell_type": "markdown",
   "metadata": {},
   "source": [
    "Make sure you have the latest version of GraphLab Create (>= 1.7)"
   ]
  },
  {
   "cell_type": "code",
   "execution_count": 1,
   "metadata": {
    "collapsed": false
   },
   "outputs": [],
   "source": [
    "import numpy as np\n",
    "import pandas as pd\n",
    "import matplotlib.pyplot as plt\n",
    "import seaborn as sns\n",
    "from sklearn.linear_model import LinearRegression, LogisticRegression, Ridge\n",
    "%matplotlib inline"
   ]
  },
  {
   "cell_type": "markdown",
   "metadata": {},
   "source": [
    "# Load in house sales data\n",
    "\n",
    "Dataset is from house sales in King County, the region where the city of Seattle, WA is located."
   ]
  },
  {
   "cell_type": "code",
   "execution_count": 2,
   "metadata": {
    "collapsed": false
   },
   "outputs": [],
   "source": [
    "dtype_dict = {'bathrooms':float, 'waterfront':int, 'sqft_above':int, 'sqft_living15':float, 'grade':int, 'yr_renovated':int, 'price':float, 'bedrooms':float, 'zipcode':str, 'long':float, 'sqft_lot15':float, 'sqft_living':float, 'floors':float, 'condition':int, 'lat':float, 'date':str, 'sqft_basement':int, 'yr_built':int, 'id':str, 'sqft_lot':int, 'view':int}\n",
    "sales = pd.read_csv('data/kc_house_data.csv', dtype=dtype_dict)"
   ]
  },
  {
   "cell_type": "markdown",
   "metadata": {},
   "source": [
    "If we want to do any \"feature engineering\" like creating new features or adjusting existing ones we should do this directly using the SFrames as seen in the first notebook of Week 2. For this notebook, however, we will work with the existing features."
   ]
  },
  {
   "cell_type": "markdown",
   "metadata": {},
   "source": [
    "# Import useful functions from previous notebook"
   ]
  },
  {
   "cell_type": "markdown",
   "metadata": {},
   "source": [
    "As in Week 2, we convert the SFrame into a 2D Numpy array. Copy and paste `get_numpy_data()` from the second notebook of Week 2."
   ]
  },
  {
   "cell_type": "code",
   "execution_count": null,
   "metadata": {
    "collapsed": true
   },
   "outputs": [],
   "source": [
    "import numpy as np # note this allows us to refer to numpy as np instead "
   ]
  },
  {
   "cell_type": "code",
   "execution_count": 3,
   "metadata": {
    "collapsed": true
   },
   "outputs": [],
   "source": [
    "def get_numpy_data(data_sframe, features, output):\n",
    "    data_sframe['constant'] = 1\n",
    "    features = ['constant'] + features\n",
    "    features_sframe = data_sframe[features]\n",
    "    feature_matrix = features_sframe.values\n",
    "    output_sarray = data_sframe[output]\n",
    "    output_array = output_sarray.values\n",
    "    return feature_matrix, output_array"
   ]
  },
  {
   "cell_type": "markdown",
   "metadata": {},
   "source": [
    "Also, copy and paste the `predict_output()` function to compute the predictions for an entire matrix of features given the matrix and the weights:"
   ]
  },
  {
   "cell_type": "code",
   "execution_count": 4,
   "metadata": {
    "collapsed": true
   },
   "outputs": [],
   "source": [
    "def predict_output(feature_matrix, weights):\n",
    "    # assume feature_matrix is a numpy matrix containing the features as columns and weights is a corresponding numpy array\n",
    "    # create the predictions vector by using np.dot()\n",
    "    predictions = np.dot(feature_matrix,weights)\n",
    "    return(predictions)"
   ]
  },
  {
   "cell_type": "markdown",
   "metadata": {},
   "source": [
    "# Computing the Derivative"
   ]
  },
  {
   "cell_type": "markdown",
   "metadata": {},
   "source": [
    "We are now going to move to computing the derivative of the regression cost function. Recall that the cost function is the sum over the data points of the squared difference between an observed output and a predicted output, plus the L2 penalty term.\n",
    "```\n",
    "Cost(w)\n",
    "= SUM[ (prediction - output)^2 ]\n",
    "+ l2_penalty*(w[0]^2 + w[1]^2 + ... + w[k]^2).\n",
    "```\n",
    "\n",
    "Since the derivative of a sum is the sum of the derivatives, we can take the derivative of the first part (the RSS) as we did in the notebook for the unregularized case in Week 2 and add the derivative of the regularization part.  As we saw, the derivative of the RSS with respect to `w[i]` can be written as: \n",
    "```\n",
    "2*SUM[ error*[feature_i] ].\n",
    "```\n",
    "The derivative of the regularization term with respect to `w[i]` is:\n",
    "```\n",
    "2*l2_penalty*w[i].\n",
    "```\n",
    "Summing both, we get\n",
    "```\n",
    "2*SUM[ error*[feature_i] ] + 2*l2_penalty*w[i].\n",
    "```\n",
    "That is, the derivative for the weight for feature i is the sum (over data points) of 2 times the product of the error and the feature itself, plus `2*l2_penalty*w[i]`. \n",
    "\n",
    "**We will not regularize the constant.**  Thus, in the case of the constant, the derivative is just twice the sum of the errors (without the `2*l2_penalty*w[0]` term).\n",
    "\n",
    "Recall that twice the sum of the product of two vectors is just twice the dot product of the two vectors. Therefore the derivative for the weight for feature_i is just two times the dot product between the values of feature_i and the current errors, plus `2*l2_penalty*w[i]`.\n",
    "\n",
    "With this in mind complete the following derivative function which computes the derivative of the weight given the value of the feature (over all data points) and the errors (over all data points).  To decide when to we are dealing with the constant (so we don't regularize it) we added the extra parameter to the call `feature_is_constant` which you should set to `True` when computing the derivative of the constant and `False` otherwise."
   ]
  },
  {
   "cell_type": "code",
   "execution_count": 7,
   "metadata": {
    "collapsed": true
   },
   "outputs": [],
   "source": [
    "def feature_derivative_ridge(errors, feature, weight, l2_penalty, feature_is_constant):\n",
    "    # If feature_is_constant is True, derivative is twice the dot product of errors and feature\n",
    "    if feature_is_constant:\n",
    "        derivative = 2 * np.dot(errors, feature)\n",
    "    # Otherwise, derivative is twice the dot product plus 2*l2_penalty*weight\n",
    "    else:\n",
    "        derivative = 2 * (np.dot(errors, feature) + 2*l2_penalty*weight)\n",
    "    \n",
    "    return derivative"
   ]
  },
  {
   "cell_type": "markdown",
   "metadata": {},
   "source": [
    "To test your feature derivartive run the following:"
   ]
  },
  {
   "cell_type": "code",
   "execution_count": 8,
   "metadata": {
    "collapsed": false
   },
   "outputs": [
    {
     "name": "stdout",
     "output_type": "stream",
     "text": [
      "-56554166815930.0\n",
      "-56554166815950.0\n",
      "\n",
      "-22446749330.0\n",
      "-22446749330.0\n"
     ]
    }
   ],
   "source": [
    "(example_features, example_output) = get_numpy_data(sales, ['sqft_living'], 'price') \n",
    "my_weights = np.array([1., 10.])\n",
    "test_predictions = predict_output(example_features, my_weights) \n",
    "errors = test_predictions - example_output # prediction errors\n",
    "\n",
    "# next two lines should print the same values\n",
    "print (feature_derivative_ridge(errors, example_features[:,1], my_weights[1], 1, False))\n",
    "print( np.sum(errors*example_features[:,1])*2+20.)\n",
    "print ('')\n",
    "\n",
    "# next two lines should print the same values\n",
    "print (feature_derivative_ridge(errors, example_features[:,0], my_weights[0], 1, True))\n",
    "print (np.sum(errors)*2.)"
   ]
  },
  {
   "cell_type": "markdown",
   "metadata": {},
   "source": [
    "# Gradient Descent"
   ]
  },
  {
   "cell_type": "markdown",
   "metadata": {},
   "source": [
    "Now we will write a function that performs a gradient descent. The basic premise is simple. Given a starting point we update the current weights by moving in the negative gradient direction. Recall that the gradient is the direction of *increase* and therefore the negative gradient is the direction of *decrease* and we're trying to *minimize* a cost function. \n",
    "\n",
    "The amount by which we move in the negative gradient *direction*  is called the 'step size'. We stop when we are 'sufficiently close' to the optimum. Unlike in Week 2, this time we will set a **maximum number of iterations** and take gradient steps until we reach this maximum number. If no maximum number is supplied, the maximum should be set 100 by default. (Use default parameter values in Python.)\n",
    "\n",
    "With this in mind, complete the following gradient descent function below using your derivative function above. For each step in the gradient descent, we update the weight for each feature before computing our stopping criteria."
   ]
  },
  {
   "cell_type": "code",
   "execution_count": 26,
   "metadata": {
    "collapsed": false
   },
   "outputs": [],
   "source": [
    "def ridge_regression_gradient_descent(feature_matrix, output, initial_weights, step_size, l2_penalty, max_iterations=100):\n",
    "    print (f'Starting gradient descent with l2_penalty = {l2_penalty}')\n",
    "    \n",
    "    weights = np.array(initial_weights) # make sure it's a numpy array\n",
    "    iteration = 0 # iteration counter\n",
    "    print_frequency = 1  # for adjusting frequency of debugging output\n",
    "    \n",
    "    #while not reached maximum number of iterations:\n",
    "    while iteration < max_iterations:\n",
    "        iteration += 1  # increment iteration counter\n",
    "        ### === code section for adjusting frequency of debugging output. ===\n",
    "        if iteration == 10:\n",
    "            print_frequency = 10\n",
    "        if iteration == 100:\n",
    "            print_frequency = 100\n",
    "        if iteration%print_frequency==0:\n",
    "            print('Iteration = ' + str(iteration))\n",
    "        ### === end code section ===\n",
    "        \n",
    "        # compute the predictions based on feature_matrix and weights using your predict_output() function\n",
    "        predictions = predict_output(feature_matrix, weights)\n",
    "        # compute the errors as predictions - output\n",
    "        errors = predictions - output\n",
    "        # from time to time, print the value of the cost function\n",
    "        if iteration%print_frequency==0:\n",
    "            \n",
    "            print (f'Cost function = {(np.dot(errors,errors) + l2_penalty*(np.dot(weights,weights) - weights[0]**2))}')\n",
    "        \n",
    "        for i in range(len(weights)): # loop over each weight\n",
    "            # Recall that feature_matrix[:,i] is the feature column associated with weights[i]\n",
    "            # compute the derivative for weight[i].\n",
    "            #(Remember: when i=0, you are computing the derivative of the constant!)\n",
    "            if i == 0:\n",
    "                derivative = feature_derivative_ridge(errors, feature_matrix[:, i], weights[i], l2_penalty, True)\n",
    "            else:\n",
    "                derivative = feature_derivative_ridge(errors, feature_matrix[:, i], weights[i], l2_penalty, False)\n",
    "            # subtract the step size times the derivative from the current weight\n",
    "            weights[i] = weights[i] - (step_size * derivative)\n",
    "                                      \n",
    "    print (f'Done with gradient descent at iteration {iteration}')\n",
    "    print (f'Learned weights = {str(weights)}')\n",
    "    return weights"
   ]
  },
  {
   "cell_type": "markdown",
   "metadata": {},
   "source": [
    "# Visualizing effect of L2 penalty"
   ]
  },
  {
   "cell_type": "markdown",
   "metadata": {},
   "source": [
    "The L2 penalty gets its name because it causes weights to have small L2 norms than otherwise. Let's see how large weights get penalized. Let us consider a simple model with 1 feature:"
   ]
  },
  {
   "cell_type": "code",
   "execution_count": 15,
   "metadata": {
    "collapsed": true
   },
   "outputs": [],
   "source": [
    "simple_features = ['sqft_living']\n",
    "my_output = 'price'"
   ]
  },
  {
   "cell_type": "markdown",
   "metadata": {},
   "source": [
    "Let us split the dataset into training set and test set. Make sure to use `seed=0`:"
   ]
  },
  {
   "cell_type": "code",
   "execution_count": 18,
   "metadata": {
    "collapsed": true
   },
   "outputs": [],
   "source": [
    "train_data = pd.read_csv('data/kc_house_train_data.csv',dtype = dtype_dict)\n",
    "test_data = pd.read_csv('data/kc_house_test_data.csv',dtype=dtype_dict)"
   ]
  },
  {
   "cell_type": "markdown",
   "metadata": {},
   "source": [
    "In this part, we will only use `'sqft_living'` to predict `'price'`. Use the `get_numpy_data` function to get a Numpy versions of your data with only this feature, for both the `train_data` and the `test_data`. "
   ]
  },
  {
   "cell_type": "code",
   "execution_count": 19,
   "metadata": {
    "collapsed": true
   },
   "outputs": [],
   "source": [
    "(simple_feature_matrix, output) = get_numpy_data(train_data, simple_features, my_output)\n",
    "(simple_test_feature_matrix, test_output) = get_numpy_data(test_data, simple_features, my_output)"
   ]
  },
  {
   "cell_type": "markdown",
   "metadata": {},
   "source": [
    "Let's set the parameters for our optimization:"
   ]
  },
  {
   "cell_type": "code",
   "execution_count": 56,
   "metadata": {
    "collapsed": true
   },
   "outputs": [],
   "source": [
    "initial_weights = np.array([0., 0.])\n",
    "step_size = 1e-12\n",
    "max_iterations=1000"
   ]
  },
  {
   "cell_type": "markdown",
   "metadata": {},
   "source": [
    "First, let's consider no regularization.  Set the `l2_penalty` to `0.0` and run your ridge regression algorithm to learn the weights of your model.  Call your weights:\n",
    "\n",
    "`simple_weights_0_penalty`\n",
    "\n",
    "we'll use them later."
   ]
  },
  {
   "cell_type": "code",
   "execution_count": 57,
   "metadata": {
    "collapsed": true
   },
   "outputs": [
    {
     "name": "stdout",
     "output_type": "stream",
     "text": [
      "Starting gradient descent with l2_penalty = 0\n",
      "Iteration = 1\n",
      "Cost function = 7433051852335772.0\n",
      "Iteration = 2\n",
      "Cost function = 5394267213533688.0\n",
      "Iteration = 3\n",
      "Cost function = 4023237736286403.0\n",
      "Iteration = 4\n",
      "Cost function = 3101256183295487.0\n",
      "Iteration = 5\n",
      "Cost function = 2481247643601012.0\n",
      "Iteration = 6\n",
      "Cost function = 2064308076801447.0\n",
      "Iteration = 7\n",
      "Cost function = 1783927096156441.0\n",
      "Iteration = 8\n",
      "Cost function = 1595378201854742.0\n",
      "Iteration = 9\n",
      "Cost function = 1468583989698184.5\n",
      "Iteration = 10\n",
      "Cost function = 1383318190090050.8\n",
      "Iteration = 20\n",
      "Cost function = 1211562139024524.5\n",
      "Iteration = 30\n",
      "Cost function = 1208313761205656.5\n",
      "Iteration = 40\n",
      "Cost function = 1208252324779675.5\n",
      "Iteration = 50\n",
      "Cost function = 1208251162139724.8\n",
      "Iteration = 60\n",
      "Cost function = 1208251139442068.0\n",
      "Iteration = 70\n",
      "Cost function = 1208251138303840.8\n",
      "Iteration = 80\n",
      "Cost function = 1208251137573361.5\n",
      "Iteration = 90\n",
      "Cost function = 1208251136850593.8\n",
      "Iteration = 100\n",
      "Cost function = 1208251136127972.2\n",
      "Iteration = 200\n",
      "Cost function = 1208251128901788.5\n",
      "Iteration = 300\n",
      "Cost function = 1208251121675613.0\n",
      "Iteration = 400\n",
      "Cost function = 1208251114449445.5\n",
      "Iteration = 500\n",
      "Cost function = 1208251107223286.8\n",
      "Iteration = 600\n",
      "Cost function = 1208251099997135.8\n",
      "Iteration = 700\n",
      "Cost function = 1208251092770993.2\n",
      "Iteration = 800\n",
      "Cost function = 1208251085544859.0\n",
      "Iteration = 900\n",
      "Cost function = 1208251078318733.0\n",
      "Iteration = 1000\n",
      "Cost function = 1208251071092615.0\n",
      "Done with gradient descent at iteration 1000\n",
      "Learned weights = [-1.63113515e-01  2.63024369e+02]\n"
     ]
    }
   ],
   "source": [
    "l2_penalty = 0\n",
    "simple_weights_0_penalty = ridge_regression_gradient_descent(simple_feature_matrix, output, initial_weights, step_size,  l2_penalty, max_iterations)"
   ]
  },
  {
   "cell_type": "markdown",
   "metadata": {},
   "source": [
    "Next, let's consider high regularization.  Set the `l2_penalty` to `1e11` and run your ridge regression algorithm to learn the weights of your model.  Call your weights:\n",
    "\n",
    "`simple_weights_high_penalty`\n",
    "\n",
    "we'll use them later."
   ]
  },
  {
   "cell_type": "code",
   "execution_count": 58,
   "metadata": {
    "collapsed": true
   },
   "outputs": [
    {
     "name": "stdout",
     "output_type": "stream",
     "text": [
      "Starting gradient descent with l2_penalty = 100000000000.0\n",
      "Iteration = 1\n",
      "Cost function = 7433051852335772.0\n",
      "Iteration = 2\n",
      "Cost function = 5618303898910948.0\n",
      "Iteration = 3\n",
      "Cost function = 5109902487129312.0\n",
      "Iteration = 4\n",
      "Cost function = 4941143993208763.0\n",
      "Iteration = 5\n",
      "Cost function = 4878160936773789.0\n",
      "Iteration = 6\n",
      "Cost function = 4853099556949872.0\n",
      "Iteration = 7\n",
      "Cost function = 4842818596253358.0\n",
      "Iteration = 8\n",
      "Cost function = 4838543457576880.0\n",
      "Iteration = 9\n",
      "Cost function = 4836755284985168.0\n",
      "Iteration = 10\n",
      "Cost function = 4836005442620476.0\n",
      "Iteration = 20\n",
      "Cost function = 4835461655612350.0\n",
      "Iteration = 30\n",
      "Cost function = 4835460173116214.0\n",
      "Iteration = 40\n",
      "Cost function = 4835458783311108.0\n",
      "Iteration = 50\n",
      "Cost function = 4835457393522584.0\n",
      "Iteration = 60\n",
      "Cost function = 4835456003734794.0\n",
      "Iteration = 70\n",
      "Cost function = 4835454613947736.0\n",
      "Iteration = 80\n",
      "Cost function = 4835453224161409.0\n",
      "Iteration = 90\n",
      "Cost function = 4835451834375815.0\n",
      "Iteration = 100\n",
      "Cost function = 4835450444590952.0\n",
      "Iteration = 200\n",
      "Cost function = 4835436546782569.0\n",
      "Iteration = 300\n",
      "Cost function = 4835422649047360.0\n",
      "Iteration = 400\n",
      "Cost function = 4835408751385323.0\n",
      "Iteration = 500\n",
      "Cost function = 4835394853796460.0\n",
      "Iteration = 600\n",
      "Cost function = 4835380956280769.0\n",
      "Iteration = 700\n",
      "Cost function = 4835367058838250.0\n",
      "Iteration = 800\n",
      "Cost function = 4835353161468902.0\n",
      "Iteration = 900\n",
      "Cost function = 4835339264172726.0\n",
      "Iteration = 1000\n",
      "Cost function = 4835325366949721.0\n",
      "Done with gradient descent at iteration 1000\n",
      "Learned weights = [12.86050167 81.61252682]\n"
     ]
    }
   ],
   "source": [
    "l2_penalty = 1e11\n",
    "simple_weights_high_penalty = ridge_regression_gradient_descent(simple_feature_matrix, output, initial_weights, step_size, l2_penalty, max_iterations)"
   ]
  },
  {
   "cell_type": "markdown",
   "metadata": {},
   "source": [
    "This code will plot the two learned models.  (The blue line is for the model with no regularization and the red line is for the one with high regularization.)"
   ]
  },
  {
   "cell_type": "code",
   "execution_count": 59,
   "metadata": {
    "collapsed": true
   },
   "outputs": [
    {
     "data": {
      "text/plain": [
       "[<matplotlib.lines.Line2D at 0x1a2472b390>,\n",
       " <matplotlib.lines.Line2D at 0x1a2472b518>,\n",
       " <matplotlib.lines.Line2D at 0x1a2472bd68>,\n",
       " <matplotlib.lines.Line2D at 0x1a2472bef0>,\n",
       " <matplotlib.lines.Line2D at 0x1a24734668>,\n",
       " <matplotlib.lines.Line2D at 0x1a247347f0>]"
      ]
     },
     "execution_count": 59,
     "metadata": {},
     "output_type": "execute_result"
    },
    {
     "data": {
      "image/png": "[encoded data removed]",
      "text/plain": [
       "<Figure size 432x288 with 1 Axes>"
      ]
     },
     "metadata": {
      "needs_background": "light"
     },
     "output_type": "display_data"
    }
   ],
   "source": [
    "import matplotlib.pyplot as plt\n",
    "%matplotlib inline\n",
    "plt.plot(simple_feature_matrix,output,'k.',\n",
    "         simple_feature_matrix,predict_output(simple_feature_matrix, simple_weights_0_penalty),'b-',\n",
    "        simple_feature_matrix,predict_output(simple_feature_matrix, simple_weights_high_penalty),'r-')"
   ]
  },
  {
   "cell_type": "markdown",
   "metadata": {},
   "source": [
    "Compute the RSS on the TEST data for the following three sets of weights:\n",
    "1. The initial weights (all zeros)\n",
    "2. The weights learned with no regularization\n",
    "3. The weights learned with high regularization\n",
    "\n",
    "Which weights perform best?"
   ]
  },
  {
   "cell_type": "code",
   "execution_count": 60,
   "metadata": {
    "collapsed": true
   },
   "outputs": [
    {
     "data": {
      "text/plain": [
       "1784273286136298.0"
      ]
     },
     "execution_count": 60,
     "metadata": {},
     "output_type": "execute_result"
    }
   ],
   "source": [
    "RSS1 = sum((-test_output)**2); RSS1"
   ]
  },
  {
   "cell_type": "code",
   "execution_count": 61,
   "metadata": {
    "collapsed": true
   },
   "outputs": [
    {
     "data": {
      "text/plain": [
       "275723632153607.44"
      ]
     },
     "execution_count": 61,
     "metadata": {},
     "output_type": "execute_result"
    }
   ],
   "source": [
    "RSS2 = ((predict_output(simple_test_feature_matrix,simple_weights_0_penalty)-test_output)**2).sum(); RSS2"
   ]
  },
  {
   "cell_type": "code",
   "execution_count": 62,
   "metadata": {
    "collapsed": true
   },
   "outputs": [
    {
     "data": {
      "text/plain": [
       "994126224026613.8"
      ]
     },
     "execution_count": 62,
     "metadata": {},
     "output_type": "execute_result"
    }
   ],
   "source": [
    "RSS3 = sum((predict_output(simple_test_feature_matrix,simple_weights_high_penalty)-test_output)**2); RSS3"
   ]
  },
  {
   "cell_type": "markdown",
   "metadata": {},
   "source": [
    "#### ***QUIZ QUESTIONS***\n",
    "1. What is the value of the coefficient for `sqft_living` that you learned with no regularization, rounded to 1 decimal place?  What about the one with high regularization?\n",
    "2. Comparing the lines you fit with the with no regularization versus high regularization, which one is steeper?\n",
    "3. What are the RSS on the test data for each of the set of weights above (initial, no regularization, high regularization)? \n"
   ]
  },
  {
   "cell_type": "markdown",
   "metadata": {},
   "source": [
    "# Running a multiple regression with L2 penalty"
   ]
  },
  {
   "cell_type": "markdown",
   "metadata": {},
   "source": [
    "Let us now consider a model with 2 features: `['sqft_living', 'sqft_living15']`."
   ]
  },
  {
   "cell_type": "markdown",
   "metadata": {},
   "source": [
    "First, create Numpy versions of your training and test data with these two features. "
   ]
  },
  {
   "cell_type": "code",
   "execution_count": 63,
   "metadata": {
    "collapsed": true
   },
   "outputs": [],
   "source": [
    "model_features = ['sqft_living', 'sqft_living15'] # sqft_living15 is the average squarefeet for the nearest 15 neighbors. \n",
    "my_output = 'price'\n",
    "(feature_matrix, output) = get_numpy_data(train_data, model_features, my_output)\n",
    "(test_feature_matrix, test_output) = get_numpy_data(test_data, model_features, my_output)"
   ]
  },
  {
   "cell_type": "markdown",
   "metadata": {},
   "source": [
    "We need to re-inialize the weights, since we have one extra parameter. Let us also set the step size and maximum number of iterations."
   ]
  },
  {
   "cell_type": "code",
   "execution_count": 64,
   "metadata": {
    "collapsed": true
   },
   "outputs": [],
   "source": [
    "initial_weights = np.array([0.0,0.0,0.0])\n",
    "step_size = 1e-12\n",
    "max_iterations = 1000"
   ]
  },
  {
   "cell_type": "markdown",
   "metadata": {},
   "source": [
    "First, let's consider no regularization.  Set the `l2_penalty` to `0.0` and run your ridge regression algorithm to learn the weights of your model.  Call your weights:\n",
    "\n",
    "`multiple_weights_0_penalty`"
   ]
  },
  {
   "cell_type": "code",
   "execution_count": 65,
   "metadata": {
    "collapsed": true
   },
   "outputs": [
    {
     "name": "stdout",
     "output_type": "stream",
     "text": [
      "Starting gradient descent with l2_penalty = 0.0\n",
      "Iteration = 1\n",
      "Cost function = 7433051852335772.0\n",
      "Iteration = 2\n",
      "Cost function = 4056752332045942.5\n",
      "Iteration = 3\n",
      "Cost function = 2529565114525309.5\n",
      "Iteration = 4\n",
      "Cost function = 1838556694300507.0\n",
      "Iteration = 5\n",
      "Cost function = 1525675575150296.8\n",
      "Iteration = 6\n",
      "Cost function = 1383789498571783.8\n",
      "Iteration = 7\n",
      "Cost function = 1319232606146273.5\n",
      "Iteration = 8\n",
      "Cost function = 1289648871879140.8\n",
      "Iteration = 9\n",
      "Cost function = 1275884723913737.0\n",
      "Iteration = 10\n",
      "Cost function = 1269278807397619.0\n",
      "Iteration = 20\n",
      "Cost function = 1257812386017016.2\n",
      "Iteration = 30\n",
      "Cost function = 1251954570861556.0\n",
      "Iteration = 40\n",
      "Cost function = 1246755422656426.0\n",
      "Iteration = 50\n",
      "Cost function = 1242139508166548.5\n",
      "Iteration = 60\n",
      "Cost function = 1238041400480994.0\n",
      "Iteration = 70\n",
      "Cost function = 1234403012742170.5\n",
      "Iteration = 80\n",
      "Cost function = 1231172774196731.0\n",
      "Iteration = 90\n",
      "Cost function = 1228304899227735.2\n",
      "Iteration = 100\n",
      "Cost function = 1225758738385979.0\n",
      "Iteration = 200\n",
      "Cost function = 1211738880290897.0\n",
      "Iteration = 300\n",
      "Cost function = 1207473079755049.5\n",
      "Iteration = 400\n",
      "Cost function = 1206175124539965.0\n",
      "Iteration = 500\n",
      "Cost function = 1205780188995876.5\n",
      "Iteration = 600\n",
      "Cost function = 1205660013231388.8\n",
      "Iteration = 700\n",
      "Cost function = 1205623438011734.2\n",
      "Iteration = 800\n",
      "Cost function = 1205612299743252.0\n",
      "Iteration = 900\n",
      "Cost function = 1205608901119130.5\n",
      "Iteration = 1000\n",
      "Cost function = 1205607857419329.5\n",
      "Done with gradient descent at iteration 1000\n",
      "Learned weights = [ -0.35743483 243.05416982  22.41481497]\n"
     ]
    }
   ],
   "source": [
    "l2_penalty = 0.0\n",
    "multiple_weights_0_penalty = ridge_regression_gradient_descent(feature_matrix, output, initial_weights, step_size,  l2_penalty, max_iterations)"
   ]
  },
  {
   "cell_type": "markdown",
   "metadata": {},
   "source": [
    "Next, let's consider high regularization.  Set the `l2_penalty` to `1e11` and run your ridge regression algorithm to learn the weights of your model.  Call your weights:\n",
    "\n",
    "`multiple_weights_high_penalty`"
   ]
  },
  {
   "cell_type": "code",
   "execution_count": 66,
   "metadata": {
    "collapsed": true
   },
   "outputs": [
    {
     "name": "stdout",
     "output_type": "stream",
     "text": [
      "Starting gradient descent with l2_penalty = 100000000000.0\n",
      "Iteration = 1\n",
      "Cost function = 7433051852335772.0\n",
      "Iteration = 2\n",
      "Cost function = 4460489790922030.5\n",
      "Iteration = 3\n",
      "Cost function = 4019573762527894.5\n",
      "Iteration = 4\n",
      "Cost function = 3926762373939811.0\n",
      "Iteration = 5\n",
      "Cost function = 3903462570868661.0\n",
      "Iteration = 6\n",
      "Cost function = 3897238351517945.0\n",
      "Iteration = 7\n",
      "Cost function = 3895537939045419.0\n",
      "Iteration = 8\n",
      "Cost function = 3895066179809907.5\n",
      "Iteration = 9\n",
      "Cost function = 3894932193919811.0\n",
      "Iteration = 10\n",
      "Cost function = 3894892407346228.0\n",
      "Iteration = 20\n",
      "Cost function = 3894870344484034.0\n",
      "Iteration = 30\n",
      "Cost function = 3894869532344627.5\n",
      "Iteration = 40\n",
      "Cost function = 3894868767259987.5\n",
      "Iteration = 50\n",
      "Cost function = 3894868002433131.0\n",
      "Iteration = 60\n",
      "Cost function = 3894867237608017.5\n",
      "Iteration = 70\n",
      "Cost function = 3894866472783247.0\n",
      "Iteration = 80\n",
      "Cost function = 3894865707958809.0\n",
      "Iteration = 90\n",
      "Cost function = 3894864943134706.5\n",
      "Iteration = 100\n",
      "Cost function = 3894864178310937.5\n",
      "Iteration = 200\n",
      "Cost function = 3894856530091623.5\n",
      "Iteration = 300\n",
      "Cost function = 3894848881905721.0\n",
      "Iteration = 400\n",
      "Cost function = 3894841233753231.0\n",
      "Iteration = 500\n",
      "Cost function = 3894833585634151.5\n",
      "Iteration = 600\n",
      "Cost function = 3894825937548482.0\n",
      "Iteration = 700\n",
      "Cost function = 3894818289496224.0\n",
      "Iteration = 800\n",
      "Cost function = 3894810641477376.5\n",
      "Iteration = 900\n",
      "Cost function = 3894802993491940.0\n",
      "Iteration = 1000\n",
      "Cost function = 3894795345539913.5\n",
      "Done with gradient descent at iteration 1000\n",
      "Learned weights = [10.03815235 65.7073449  57.55962569]\n"
     ]
    }
   ],
   "source": [
    "l2_penalty = 1e11\n",
    "multiple_weights_high_penalty = ridge_regression_gradient_descent(feature_matrix, output, initial_weights, step_size,  l2_penalty, max_iterations)"
   ]
  },
  {
   "cell_type": "markdown",
   "metadata": {},
   "source": [
    "Compute the RSS on the TEST data for the following three sets of weights:\n",
    "1. The initial weights (all zeros)\n",
    "2. The weights learned with no regularization\n",
    "3. The weights learned with high regularization\n",
    "\n",
    "Which weights perform best?"
   ]
  },
  {
   "cell_type": "code",
   "execution_count": 45,
   "metadata": {
    "collapsed": true
   },
   "outputs": [
    {
     "data": {
      "text/plain": [
       "1784273286136298.0"
      ]
     },
     "execution_count": 45,
     "metadata": {},
     "output_type": "execute_result"
    }
   ],
   "source": [
    "RSS1 = sum((-test_output) ** 2); RSS1"
   ]
  },
  {
   "cell_type": "code",
   "execution_count": 68,
   "metadata": {
    "collapsed": true
   },
   "outputs": [
    {
     "data": {
      "text/plain": [
       "274067615918575.72"
      ]
     },
     "execution_count": 68,
     "metadata": {},
     "output_type": "execute_result"
    }
   ],
   "source": [
    "RSS2 = sum((predict_output(test_feature_matrix, multiple_weights_0_penalty) - test_output) ** 2); RSS2"
   ]
  },
  {
   "cell_type": "code",
   "execution_count": 67,
   "metadata": {
    "collapsed": true
   },
   "outputs": [
    {
     "data": {
      "text/plain": [
       "275723632153607.44"
      ]
     },
     "execution_count": 67,
     "metadata": {},
     "output_type": "execute_result"
    }
   ],
   "source": [
    "RSS3 = sum((predict_output(test_feature_matrix, multiple_weights_high_penalty) - test_output) ** 2); RSS2"
   ]
  },
  {
   "cell_type": "markdown",
   "metadata": {},
   "source": [
    "Predict the house price for the 1st house in the test set using the no regularization and high regularization models. (Remember that python starts indexing from 0.) How far is the prediction from the actual price?  Which weights perform best for the 1st house?"
   ]
  },
  {
   "cell_type": "markdown",
   "metadata": {},
   "source": [
    "***QUIZ QUESTIONS***\n",
    "1. What is the value of the coefficient for `sqft_living` that you learned with no regularization, rounded to 1 decimal place?  What about the one with high regularization?\n",
    "2. What are the RSS on the test data for each of the set of weights above (initial, no regularization, high regularization)? \n",
    "3. We make prediction for the first house in the test set using two sets of weights (no regularization vs high regularization). Which weights make better prediction <u>for that particular house</u>?"
   ]
  },
  {
   "cell_type": "code",
   "execution_count": 70,
   "metadata": {
    "collapsed": true
   },
   "outputs": [
    {
     "name": "stdout",
     "output_type": "stream",
     "text": [
      "387465.47605823533\n",
      "196427.67508623266\n",
      "310000.0\n"
     ]
    }
   ],
   "source": [
    "print (predict_output(test_feature_matrix,multiple_weights_0_penalty)[0])\n",
    "print (predict_output(test_feature_matrix,multiple_weights_high_penalty)[0])\n",
    "print (test_output[0])"
   ]
  },
  {
   "cell_type": "code",
   "execution_count": null,
   "metadata": {},
   "outputs": [],
   "source": []
  }
 ],
 "metadata": {
  "kernelspec": {
   "display_name": "Python [conda env:venv-2]",
   "language": "python",
   "name": "conda-env-venv-2-py"
  },
  "language_info": {
   "codemirror_mode": {
    "name": "ipython",
    "version": 3
   },
   "file_extension": ".py",
   "mimetype": "text/x-python",
   "name": "python",
   "nbconvert_exporter": "python",
   "pygments_lexer": "ipython3",
   "version": "3.6.6"
  }
 },
 "nbformat": 4,
 "nbformat_minor": 2
}
